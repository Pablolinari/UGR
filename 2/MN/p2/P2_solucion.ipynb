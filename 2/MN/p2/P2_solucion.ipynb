{
 "cells": [
  {
   "cell_type": "markdown",
   "id": "79a80f76",
   "metadata": {},
   "source": []
  },
  {
   "cell_type": "code",
   "execution_count": 1,
   "id": "62b3ec2b",
   "metadata": {},
   "outputs": [],
   "source": [
    "# Carga de librerías necesarias\n",
    "import numpy as np\n",
    "import sympy as sp\n",
    "import matplotlib.pyplot as plt\n",
    "from random import random"
   ]
  },
  {
   "cell_type": "markdown",
   "id": "95d9a30f",
   "metadata": {},
   "source": [
    "> **Ejercicio 1:** Pruebe ahora a repetir el mismo proceso, pero con los datos de interpolación  \n",
    "> \n",
    "> a) $(a-h,f(a-h))$ y $(a,f(a))$,\n",
    "> \n",
    "> b) $(a-h,f(a-h))$ y $(a+h,f(a+h))$. \n",
    "> \n",
    "> ¿Qué fórmulas de derivación numérica se obtiene en cada caso?"
   ]
  },
  {
   "cell_type": "code",
   "execution_count": 17,
   "id": "99e60e4a",
   "metadata": {},
   "outputs": [
    {
     "data": {
      "text/latex": [
       "$\\displaystyle \\frac{- f{\\left(a - h \\right)} + f{\\left(a + h \\right)}}{2 h}$"
      ],
      "text/plain": [
       "(-f(a - h) + f(a + h))/(2*h)"
      ]
     },
     "execution_count": 17,
     "metadata": {},
     "output_type": "execute_result"
    }
   ],
   "source": [
    "f = sp.Function('f')                # Crea función simbólica\n",
    "a,h = sp.symbols('a,h')\n",
    "x_values = [a-h,a]                  # Intervalo simbólico, lista que contiene variables simbólicas\n",
    "y_values = [f(x_values[0]),f(x_values[1])]\n",
    "x = sp.Symbol('x')\n",
    "p = (y_values[1]-y_values[0])/(x_values[1]-x_values[0])*(x-x_values[0])+y_values[0]\n",
    "p.subs({x:x_values[0]}),p.subs({x:x_values[1]})\n",
    "sp.diff(p,x) ## formula de diferencia regresiva\n",
    "\n",
    "x1_values = [a-h,a+h]    \n",
    "y1_values = [f(x1_values[0]),f(x1_values[1])]\n",
    "p1 = (y1_values[1]-y1_values[0])/(x1_values[1]-x1_values[0])*(x-x1_values[0])+y1_values[0]\n",
    "p1.subs({x:x1_values[0]}),p1.subs({x:x1_values[1]})\n",
    "sp.diff(p1,x)## formula de diferencia centrada\n",
    "\n"
   ]
  },
  {
   "cell_type": "markdown",
   "id": "04c33ffe",
   "metadata": {},
   "source": [
    "> **Ejercicio 2:** Codifica una función para calcular la fórmula de derivación de tipo interpolatorio obtenida al derivar el polinomio interpolador en una lista de nodos que acepte como argumento. Añade un argumento opcional que sea el orden de la derivada a calcular. Comprueba el correcto funcionamiento de esta función con los ejemplos mostrados hasta el momento."
   ]
  },
  {
   "cell_type": "code",
   "execution_count": 3,
   "id": "fee42286",
   "metadata": {},
   "outputs": [
    {
     "data": {
      "text/latex": [
       "$\\displaystyle \\frac{\\left(x - x_{1}\\right) f{\\left(x_{3} \\right)}}{\\left(- x_{1} + x_{3}\\right) \\left(- x_{2} + x_{3}\\right)} + \\frac{\\left(x - x_{1}\\right) f{\\left(x_{2} \\right)}}{\\left(- x_{1} + x_{2}\\right) \\left(x_{2} - x_{3}\\right)} + \\frac{\\left(x - x_{2}\\right) f{\\left(x_{1} \\right)}}{\\left(x_{1} - x_{2}\\right) \\left(x_{1} - x_{3}\\right)} + \\frac{\\left(x - x_{2}\\right) f{\\left(x_{3} \\right)}}{\\left(- x_{1} + x_{3}\\right) \\left(- x_{2} + x_{3}\\right)} + \\frac{\\left(x - x_{3}\\right) f{\\left(x_{1} \\right)}}{\\left(x_{1} - x_{2}\\right) \\left(x_{1} - x_{3}\\right)} + \\frac{\\left(x - x_{3}\\right) f{\\left(x_{2} \\right)}}{\\left(- x_{1} + x_{2}\\right) \\left(x_{2} - x_{3}\\right)}$"
      ],
      "text/plain": [
       "(x - x1)*f(x3)/((-x1 + x3)*(-x2 + x3)) + (x - x1)*f(x2)/((-x1 + x2)*(x2 - x3)) + (x - x2)*f(x1)/((x1 - x2)*(x1 - x3)) + (x - x2)*f(x3)/((-x1 + x3)*(-x2 + x3)) + (x - x3)*f(x1)/((x1 - x2)*(x1 - x3)) + (x - x3)*f(x2)/((-x1 + x2)*(x2 - x3))"
      ]
     },
     "execution_count": 3,
     "metadata": {},
     "output_type": "execute_result"
    }
   ],
   "source": [
    "def calcula_formula_interp(x_values,orden):\n",
    "    f = sp.Function('f') \n",
    "    x = sp.Symbol('x')\n",
    "    x_values =sp.symbols(x_values)\n",
    "    lk=1   \n",
    "    p=0\n",
    "    for k in range(0,len(x_values)):\n",
    "        lk=1\n",
    "        for i in range(0,len(x_values)):\n",
    "            if i != k:\n",
    "                lk *=(x-x_values[i])/(x_values[k]-x_values[i])\n",
    "        p+=f(x_values[k])*lk\n",
    "    for i in range(0,orden):\n",
    "        p = sp.diff(p,x)\n",
    "    return p\n",
    "\n",
    "\n",
    "p = calcula_formula_interp(['x1','x2','x3'],1)\n",
    "p"
   ]
  },
  {
   "cell_type": "markdown",
   "id": "60960e0d",
   "metadata": {},
   "source": [
    "> **Ejercicio 3**: Repita este procedimiento con la fórmula para la segunda derivada\n",
    "> $$\n",
    "> f''(a) \\approx \\frac{f(a+h)-2f(a)+f(a-h)}{h^2}\n",
    "> $$\n",
    "> y compruebe que tiene orden de aproximación 2."
   ]
  },
  {
   "cell_type": "code",
   "execution_count": 4,
   "id": "b3fe6b0c",
   "metadata": {},
   "outputs": [
    {
     "data": {
      "text/latex": [
       "$\\displaystyle \\frac{2 f{\\left(x_{1} \\right)}}{\\left(x_{1} - x_{2}\\right) \\left(x_{1} - x_{3}\\right)} + \\frac{2 f{\\left(x_{3} \\right)}}{\\left(- x_{1} + x_{3}\\right) \\left(- x_{2} + x_{3}\\right)} + \\frac{2 f{\\left(x_{2} \\right)}}{\\left(- x_{1} + x_{2}\\right) \\left(x_{2} - x_{3}\\right)}$"
      ],
      "text/plain": [
       "2*f(x1)/((x1 - x2)*(x1 - x3)) + 2*f(x3)/((-x1 + x3)*(-x2 + x3)) + 2*f(x2)/((-x1 + x2)*(x2 - x3))"
      ]
     },
     "execution_count": 4,
     "metadata": {},
     "output_type": "execute_result"
    }
   ],
   "source": [
    "p = calcula_formula_interp(['x1','x2','x3'],2)\n",
    "p"
   ]
  },
  {
   "cell_type": "markdown",
   "id": "9ef912e8",
   "metadata": {},
   "source": [
    "> **Ejercicio 4:** Utilice la función $f(x) = \\dfrac{e^{\\cos(x)}}{x^2+1}$ y el valor $a=1$ y compruebe que ocurre este mismo hecho. Repita el procedimiento utilizando la fórmula de diferencia centrada en lugar de la de diferencia progresiva y comenta las diferencias observadas.\n"
   ]
  },
  {
   "cell_type": "code",
   "execution_count": 23,
   "id": "a1a9632a",
   "metadata": {},
   "outputs": [
    {
     "name": "stdout",
     "output_type": "stream",
     "text": [
      "---------------------valor exacto--------------\n",
      "-1.58046613519819\n",
      "---------------------valor aproximado cambiando h diferencia progresiva--------------\n",
      "[-0.726346167289936 -1.46062768559165 -1.56825363261489 -1.57924300800927\n",
      " -1.58034380417060 -1.58045390192818 -1.58046491172126 -1.58046601583806\n",
      " -1.58046610243545 -1.58046631337783 -1.58046686848934 -1.58045798670514\n",
      " -1.58051349785637 -1.57873714101697 -1.57651669496772 -1.88737914186277 0\n",
      " 0 0 0 0]\n",
      "---------------------valor aproximado cambiando h diferencia centrada--------------\n",
      "[0.0659583412422579 - 0.5*E -1.58243403445756 -1.58048641463901\n",
      " -1.58046633805259 -1.58046613722651 -1.58046613522034 -1.58046613518703\n",
      " -1.58046613629725 -1.58046612463991 -1.58046614684437 -1.58046631337783\n",
      " -1.58045798670514 -1.58045798670514 -1.57984736404160 -1.57651669496772\n",
      " -1.72084568816899 -0.555111512312578 0 0 0 0]\n",
      "---------------------errores diferencia progresiva--------------\n",
      "[0.854119967908255 0.119838449606543 0.0122125025833004\n",
      " 0.00122312718892359 0.000122331027588407 1.22332700112082e-5\n",
      " 1.22347693376490e-6 1.19360135775182e-7 3.27627398544195e-8\n",
      " -1.78179634824360e-7 -7.33291147136939e-7 8.14849304986431e-6\n",
      " -4.73626581813935e-5 0.00172899418121886 0.00394944023046917\n",
      " -0.306913006664574 1.58046613519819 1.58046613519819 1.58046613519819\n",
      " 1.58046613519819 1.58046613519819]\n",
      "---------------------errores diferencia centrada--------------\n",
      "[1.64642447644045 - 0.5*E -0.00196789925936902 -2.02794408181717e-5\n",
      " -2.02854397057806e-7 -2.02831906825907e-9 -2.21458407168029e-11\n",
      " 1.11606279773468e-11 -1.09906239664781e-9 1.05582793619163e-8\n",
      " -1.16461811305868e-8 -1.78179634824360e-7 8.14849304986431e-6\n",
      " 8.14849304986431e-6 0.000618771156593700 0.00394944023046917\n",
      " -0.140379552970801 1.02535462288561 1.58046613519819 1.58046613519819\n",
      " 1.58046613519819 1.58046613519819]\n"
     ]
    }
   ],
   "source": [
    "\n",
    "def f(x):\n",
    "    return sp.exp(sp.cos(x))/(x**2 + 1)\n",
    "a= 1.\n",
    "\n",
    "derivadaf = sp.diff(f(x),x)\n",
    "valor=derivadaf.subs({x:a})\n",
    "print('---------------------valor exacto--------------')\n",
    "print(valor)\n",
    "\n",
    "\n",
    "n=20 # Calculemos aproximaciones, mediante una fórmula numérica de la derivada primera progresiva\n",
    "dersnum = np.array([(f(a+10**(-j))-f(a))/(10**(-j)) for j in range(n+1)])\n",
    "print('---------------------valor aproximado cambiando h diferencia progresiva--------------')\n",
    "print(dersnum)# con h desde 10^0 hasta el valor 10^(-n).\n",
    "errores1=np.array(dersnum)-valor\n",
    "# usando formula de la diferencia centrada\n",
    "n=20 # Calculemos aproximaciones, mediante una fórmula numérica de la derivada primera progresiva\n",
    "dersnum = np.array([(f(a+10**(-j))-f(a-10**(-j)))/(2*10**(-j)) for j in range(n+1)])\n",
    "print('---------------------valor aproximado cambiando h diferencia centrada--------------')\n",
    "print(dersnum)  # con h desde 10^0 hasta el valor 10^(-n).\n",
    "errores2=np.array(dersnum)-valor\n",
    "\n",
    "print('---------------------errores diferencia progresiva--------------')\n",
    "print(errores1)\n",
    "print('---------------------errores diferencia centrada--------------')\n",
    "print(errores2)\n"
   ]
  },
  {
   "cell_type": "markdown",
   "id": "9eecda44",
   "metadata": {},
   "source": []
  },
  {
   "cell_type": "markdown",
   "id": "0e907d2d",
   "metadata": {},
   "source": [
    "\n",
    "> **Ejercicio 5 (Implementación numérica de las fórmulas de derivación):** Implementa una función que acepte como argumentos una función en versión numérica `f`, un valor `a`, un valor `h`, un entero opcional `n` y un cuarto argumento que sea la fórmula de derivación numérica utilizada. La función deberá calcular la derivada `n`-ésima de la función `f` en el punto `a` utilizando la fórmula y el valor de `h` indicados. Las posibles fórmulas utilizadas deben incluir, al menos: diferencia regresiva, diferencia progresiva, diferencia centrada y diferencia centrada con 5 nodos. Para la función $$f(x) = \\sin(\\log(x^2+1)),$$ calcula el valor de $f'(-1)$, primero derivando una versión simbólica y obteniendo el valor exacto y después utilizando la función implementada con distintos valores de `h` y distintas fórmulas y comprueba las diferencias en la aproximación en cada caso."
   ]
  },
  {
   "cell_type": "markdown",
   "id": "5bef7a32",
   "metadata": {},
   "source": [
    "> **Ejercicio 6:** Siguiendo el modelo y el código proporcionado para la fórmula de los rectángulos a la izquierda, codifique las fórmulas compuestas de los rectángulos a la derecha y centrados. Calcule con estas dos fórmulas la aproximación de $\\displaystyle\\int_0^1 (x^2+1)dx$, el error cometido y represente al menos una de las dos gráficamente."
   ]
  },
  {
   "cell_type": "markdown",
   "id": "4d9816ea",
   "metadata": {},
   "source": [
    "> **Ejercicio 7:** Implemente una función que calcule la integral de una función $f$ en el intervalo $[a,b]$ usando la fórmula de Simpson compuesta, parametrizando también el número de subintervalos utilizados (se premia la eficiencia). Represente gráficamente la fórmula de Simpson compuesta análogamente a la representación mostrada para la fórmula de los trapecios compuesta."
   ]
  },
  {
   "cell_type": "markdown",
   "id": "1b761d30",
   "metadata": {},
   "source": [
    ">**Ejercicio 8:** Realice una comparativa entre los errores cometidos al aproximar funciones potencias sucesivas $x^i$, con $i=1,2,3,\\ldots$ en el intervalo $[0,1]$ mediante las fórmulas de los trapecios y de Simpson compuestas con diferentes valores de $h$; e inducir de ahí, los posibles órdenes de exactitud (a partir de los valores de $i$ que proporcionen valores exactos de la integral). No deje de tener en cuenta los posibles errores de redondeo, inevitables en todo cálculo realizado con ordenador."
   ]
  },
  {
   "cell_type": "markdown",
   "id": "6d2ae190",
   "metadata": {},
   "source": [
    ">**Ejercicio 9:** Programar las técnicas de integración de Romberg y adaptativa, para después aplicarlas a la aproximación de la siguiente integral $$\\int_a^b p(x)\\, dx$$\n",
    ">siendo  $\\;a=\\displaystyle\\min_{0\\leq i\\leq 7}{d_i}$, $\\;b=\\displaystyle\\max_{0\\leq i\\leq 7}{d_i}$ y\n",
    ">$$p(x)=d_0 + d_1 x + d_2 x^2 + d_3 x^3+ d_4 x^4 + d_5 x^5 + d_6 x^6 + d_7 x^7 $$\n",
    ">(siendo $d_0, d_1, \\ldots, d_7$ los dígitos de su DNI, pasaporte o tarjeta de residente)."
   ]
  },
  {
   "cell_type": "markdown",
   "id": "844837dd",
   "metadata": {},
   "source": [
    "> **Ejercicio 10:** Calcule la misma integral del ejercicio 9 pero utilizando la orden `quad` y compare los resultados de la integración Romberg y adaptativa manuales con los de la orden `quad`."
   ]
  }
 ],
 "metadata": {
  "kernelspec": {
   "display_name": "venv",
   "language": "python",
   "name": "python3"
  },
  "language_info": {
   "codemirror_mode": {
    "name": "ipython",
    "version": 3
   },
   "file_extension": ".py",
   "mimetype": "text/x-python",
   "name": "python",
   "nbconvert_exporter": "python",
   "pygments_lexer": "ipython3",
   "version": "3.12.3"
  }
 },
 "nbformat": 4,
 "nbformat_minor": 5
}
