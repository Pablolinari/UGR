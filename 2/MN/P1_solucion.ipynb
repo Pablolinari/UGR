{
 "cells": [
  {
   "cell_type": "code",
   "execution_count": 1,
   "id": "1bd2f6d0",
   "metadata": {},
   "outputs": [],
   "source": [
    "import numpy as np\n",
    "import matplotlib.pyplot as plt"
   ]
  },
  {
   "cell_type": "markdown",
   "id": "0da4cb3b",
   "metadata": {},
   "source": [
    "**Ejercicio 1.** Teniendo en cuenta la recomendación explicada sobre los criterios de parada, codifica una función similar a la explicada en el método de bisección para el método de la secante.\n",
    "\n",
    "Aproxima la raíz de la función $f(x)=e^x-3$:\n",
    "* Cambiando la precisión a 5 cifras significativas.\n",
    "* Con la precisión por defecto y aproximando la raíz con 28 cifras significativas."
   ]
  },
  {
   "cell_type": "code",
   "execution_count": 10,
   "id": "54300a95",
   "metadata": {},
   "outputs": [
    {
     "name": "stdout",
     "output_type": "stream",
     "text": [
      "Aproximacion solicitada: 1.0984699567860423\n"
     ]
    }
   ],
   "source": [
    "tol =10**(-1)\n",
    "prec=10**(-20)\n",
    "nmax=100\n",
    "\n",
    "def f(x):\n",
    "    return np.exp(x) -3\n",
    "\n",
    "def secante(f,x0,x1 ,nmax=nmax ,prec=prec ,tol=tol):\n",
    "    niter =0\n",
    "    cont = True\n",
    "    exit=''\n",
    "    while niter<nmax and cont:\n",
    "        niter+=1\n",
    "        xn1=x1-(((x1-x0)/(f(x1)-(f(x0))))*f(x1))\n",
    "\n",
    "        if abs(f(xn1))<prec:\n",
    "            exit='precision'\n",
    "            cont=False\n",
    "        else:\n",
    "            x0=x1\n",
    "            x1=xn1\n",
    "        if abs(x1 - xn1)<tol:\n",
    "            exit = 'tolerancia'\n",
    "            cont = False\n",
    "    if exit == 'precision':\n",
    "        print(f'Posiblemente solucion exacta: {xn1}')\n",
    "    elif exit == 'tolerancia':\n",
    "        print(f'Aproximacion solicitada: {xn1}')\n",
    "    else :\n",
    "        print(f'Se llego al numero maximo de iteraciones ')\n",
    "    return xn1 ,niter,exit\n",
    "\n",
    "raiz ,iter ,salida =secante(f,0.9,1.1)\n",
    "\n"
   ]
  },
  {
   "cell_type": "markdown",
   "id": "145d16cb",
   "metadata": {},
   "source": [
    "**Ejercicio 2.** Teniendo en cuenta estos primeros pasos, codifica una función para el método de Wittaker.\n",
    "\n",
    "Aproxima la raíz de la función $f(x)=e^x-3$:\n",
    "* Cambiando la precisión a 5 cifras significativas.\n",
    "* Con la precisión por defecto y aproximando la raíz con 28 cifras significativas.\n",
    "\n",
    "Comprueba que una mala elección de $m$ puede provocar que la sucesión no converja."
   ]
  },
  {
   "cell_type": "code",
   "execution_count": 32,
   "id": "840afe39",
   "metadata": {},
   "outputs": [
    {
     "name": "stdout",
     "output_type": "stream",
     "text": [
      "Aproximacion solicitada: 1.170198444421525\n",
      "Aproximacion solicitada: 1.103638323514327\n"
     ]
    }
   ],
   "source": [
    "def df(x):\n",
    "    return np.exp(x)\n",
    "\n",
    "def wittaker(f,x0,m,nmax=nmax ,prec=prec ,tol=tol):\n",
    "    niter =0\n",
    "    cont = True\n",
    "    exit=''\n",
    "    while niter<nmax and cont:\n",
    "        niter+=1\n",
    "        xn=x0-(f(x0)/m)\n",
    "\n",
    "        if abs(f(xn))<prec:\n",
    "            exit='precision'\n",
    "            cont=False\n",
    "        else:\n",
    "            x0=xn\n",
    "        if abs(x0 - xn)<tol:\n",
    "            exit = 'tolerancia'\n",
    "            cont = False\n",
    "    if exit == 'precision':\n",
    "        print(f'Posiblemente solucion exacta: {xn}')\n",
    "    elif exit == 'tolerancia':\n",
    "        print(f'Aproximacion solicitada: {xn}')\n",
    "    else :\n",
    "        print(f'Se llego al numero maximo de iteraciones ')\n",
    "    return xn ,niter,exit\n",
    "\n",
    "raiz ,iter ,salida =wittaker(f,0.9,2)\n",
    "def NewtonRaphson(f,df,x0,nmax=nmax ,prec=prec ,tol=tol):\n",
    "    niter =0\n",
    "    cont = True\n",
    "    exit=''\n",
    "    while niter<nmax and cont:\n",
    "        niter+=1\n",
    "        xn=x0-(f(x0)/df(x0))\n",
    "\n",
    "        if abs(f(xn))<prec:\n",
    "            exit='precision'\n",
    "            cont=False\n",
    "        else:\n",
    "            x0=xn\n",
    "        if abs(x0 - xn)<tol:\n",
    "            exit = 'tolerancia'\n",
    "            cont = False\n",
    "    if exit == 'precision':\n",
    "        print(f'Posiblemente solucion exacta: {xn}')\n",
    "    elif exit == 'tolerancia':\n",
    "        print(f'Aproximacion solicitada: {xn}')\n",
    "    else :\n",
    "        print(f'Se llego al numero maximo de iteraciones ')\n",
    "    return xn ,niter,exit\n",
    "\n",
    "raiz ,iter ,salida =NewtonRaphson(f,df,1)\n",
    "   "
   ]
  },
  {
   "cell_type": "markdown",
   "id": "8cc73326",
   "metadata": {},
   "source": [
    "**Ejercicio 3.** Modifique el método anterior para que, en lugar de fijar una pendiente $m$, calcule en cada iteración la derivada de la función en dicho punto, obteniendo el método de Newton-Raphson. Con este método:\n",
    "\n",
    "Aproxima la raíz de la función $f(x)=e^x-3$:\n",
    "* Cambiando la precisión a 5 cifras significativas.\n",
    "* Con la precisión por defecto y aproximando la raíz con 28 cifras significativas.\n",
    "\n",
    "Compare, en iguales condiciones, el rendimiento de Newton-Raphson con respecto al método de Wittaker."
   ]
  },
  {
   "cell_type": "code",
   "execution_count": null,
   "id": "ad7efe79",
   "metadata": {},
   "outputs": [],
   "source": []
  },
  {
   "cell_type": "markdown",
   "id": "ecb33424",
   "metadata": {},
   "source": [
    "**Ejercicio 4.** Demuestre que la ecuación  $x^3+4 x^2=10  $  tiene una única raíz en el intervalo $[1,2]$.  Aproxime dicha raíz con el método de bisección con al menos 3 cifras decimales exactas. ¿Cuántas iteraciones serán necesarias para conseguir 5 cifras decimales exactas (tol =$10^{-5}$)?  Aproxime también la raíz con el método de Newton-Raphson partiendo del extremo adecuado hasta que la diferencia en valor absoluto, entre dos aproximaciones consecutivas sea  inferior a  $10^{-3}$."
   ]
  },
  {
   "cell_type": "code",
   "execution_count": null,
   "id": "24466cb4",
   "metadata": {},
   "outputs": [],
   "source": []
  },
  {
   "cell_type": "markdown",
   "id": "4d08a8df",
   "metadata": {},
   "source": [
    "\n",
    "**Ejercicio 5.** Use el método de Newton-Raphson para aproximar las soluciones de las siguientes ecuaciones con tolerancia $10^{-5}$ , partiendo de un valor adecuado, próximo a cada una de ellas en cada caso.\n",
    "\n",
    "1. $3x=2+x^2-e^x$.\n",
    "\n",
    "2. $x^2+10 \\cos x+x=0$."
   ]
  },
  {
   "cell_type": "code",
   "execution_count": null,
   "id": "17c05bfd",
   "metadata": {},
   "outputs": [],
   "source": []
  },
  {
   "cell_type": "markdown",
   "id": "1dcc23fd",
   "metadata": {},
   "source": [
    "**Ejercicio 6.** Para la función  $ f(x)= 3 x^2+e^x-1$,\n",
    "\n",
    "i) encuentre, mediante el método de bisección una aproximación de la raíz en $[0,1]$ con, al menos, cuatro decimales exactos (tol =$10^{-4}$), y determine el número de iteraciones realizadas;\n",
    "\n",
    "ii) encuentre, mediante el método de Newton-Raphson, una aproximación de la raíz en $[0,1]$ con una tolerancia de $10^{-4}$, partiendo de $x_0=0$, y determine el número de iteraciones realizadas.  "
   ]
  },
  {
   "cell_type": "code",
   "execution_count": null,
   "id": "caf3f1a9",
   "metadata": {},
   "outputs": [],
   "source": []
  },
  {
   "cell_type": "markdown",
   "id": "621f8030",
   "metadata": {},
   "source": [
    "> **Ejercicio 7.** Implemente el método de iteración funcional de Steffensen para una función $f$. En particular, para la función $f(x)=e^x-3$:\n",
    "> * Represente gráficamente las funciones $g$ definidas tanto para el método de Newton-Raphson como para el método de Steffensen, comprobando que ambas poseen un punto fijo en la raíz de $f$.\n",
    "> * Aproxima su única raíz utilizando el método de Steffensen:\n",
    ">     * Cambiando la precisión a 5 cifras significativas.\n",
    ">     * Con la precisión por defecto y aproximando la raíz con 28 cifras significativas."
   ]
  },
  {
   "cell_type": "code",
   "execution_count": null,
   "id": "e4e24349",
   "metadata": {},
   "outputs": [],
   "source": []
  },
  {
   "cell_type": "markdown",
   "id": "3fd039f4",
   "metadata": {},
   "source": [
    "> **Ejercicio 8.** Implemente el método de aceleración de la convergencia de Steffensen y aplíquelo a una sucesión de valores obtenidos mediante iteración funcional de Newton-Raphson a la función $f(x) = e^x -3$. Compare las aproximaciones tras 4 iteraciones del método de Newton-Raphson, aceleración de la convergencia de Aitken y aceleración de la convergencia de Steffensen."
   ]
  },
  {
   "cell_type": "code",
   "execution_count": null,
   "id": "a0f9d5af",
   "metadata": {},
   "outputs": [],
   "source": []
  },
  {
   "cell_type": "markdown",
   "id": "0dbe510a",
   "metadata": {},
   "source": [
    "\n",
    "> **Ejercicio 9** Utilice las órdenes apropiadas de Python para aproximar todos los puntos donde se anulan las funciones siguientes (si es necesario, represéntelas gráficamente):\n",
    "> \n",
    "> i) $f(x)=x^7-x^4+2$ ,\n",
    "> \n",
    "> ii) $f(x)=x^7+\\cos  x-3$."
   ]
  },
  {
   "cell_type": "code",
   "execution_count": null,
   "id": "f4b05f8e",
   "metadata": {},
   "outputs": [],
   "source": []
  },
  {
   "cell_type": "markdown",
   "id": "4371b9a1",
   "metadata": {},
   "source": [
    "\n",
    "> **Ejercicio 10:** De los métodos implementados en los anteriores ejercicios, utiliza el método o métodos numéricos que desees para aproximar la primera raíz de la función\n",
    "> $$\n",
    "> f:[0,1]\\longrightarrow\\mathbb R \\\\\n",
    "> f(x) = x(1-x)\\sin\\left(\\dfrac{2\\pi}{x+1/10}\\right)\n",
    "> $$\n",
    "> que sea mayor que una milésima con una precisión de 28 cifras significativas y utilizando el menor número de iteraciones posible. Imprime por pantalla tu aproximación y el número de iteraciones utilizado."
   ]
  },
  {
   "cell_type": "code",
   "execution_count": null,
   "id": "050d306e",
   "metadata": {},
   "outputs": [],
   "source": []
  }
 ],
 "metadata": {
  "kernelspec": {
   "display_name": "venv",
   "language": "python",
   "name": "python3"
  },
  "language_info": {
   "codemirror_mode": {
    "name": "ipython",
    "version": 3
   },
   "file_extension": ".py",
   "mimetype": "text/x-python",
   "name": "python",
   "nbconvert_exporter": "python",
   "pygments_lexer": "ipython3",
   "version": "3.12.3"
  }
 },
 "nbformat": 4,
 "nbformat_minor": 5
}
