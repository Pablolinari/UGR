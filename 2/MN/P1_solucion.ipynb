{
 "cells": [
  {
   "cell_type": "code",
   "execution_count": null,
   "id": "1bd2f6d0",
   "metadata": {},
   "outputs": [],
   "source": [
    "import numpy as np\n",
    "import matplotlib.pyplot as plt\n",
    "from numpy import sign\n",
    "from resolucionecuaciones import *\n",
    "from decimal import *\n",
    "\n",
    "#Defino precision por defecto \n",
    "\n",
    "getcontext().prec=30\n",
    "\n",
    "\n",
    "#funcion para pasar un numero a formato Decimal \n",
    "\n",
    "def todecimal(x):\n",
    "    if isinstance(x, Decimal):\n",
    "        return x\n",
    "    else:\n",
    "        return Decimal(str(x))\n",
    "\n",
    "# tolerancia , precision e iteraciones por defecto \n",
    "tol =10**(-1)\n",
    "prec=10**(-20)\n",
    "nmax=100\n"
   ]
  },
  {
   "cell_type": "markdown",
   "id": "0da4cb3b",
   "metadata": {},
   "source": [
    "**Ejercicio 1.** Teniendo en cuenta la recomendación explicada sobre los criterios de parada, codifica una función similar a la explicada en el método de bisección para el método de la secante.\n",
    "\n",
    "Aproxima la raíz de la función $f(x)=e^x-3$:\n",
    "* Cambiando la precisión a 5 cifras significativas.\n",
    "* Con la precisión por defecto y aproximando la raíz con 28 cifras significativas."
   ]
  },
  {
   "cell_type": "code",
   "execution_count": null,
   "id": "54300a95",
   "metadata": {},
   "outputs": [
    {
     "name": "stdout",
     "output_type": "stream",
     "text": [
      "Posiblemente solución exacta: 1.0986\n"
     ]
    }
   ],
   "source": [
    "\n",
    "\n",
    "\n",
    "def f(x):\n",
    "    return np.exp(x) -3\n",
    "def secante(f, x0, x1, nmax=nmax, prec=prec, tol=tol):\n",
    "    \"\"\"\n",
    "    Implementa el método de la secante para encontrar una raíz de la función f.\n",
    "\n",
    "    Parámetros:\n",
    "    -----------\n",
    "    f : función\n",
    "        La función cuya raíz se desea encontrar.\n",
    "    x0 : float\n",
    "        Primera aproximación inicial para la raíz.\n",
    "    x1 : float\n",
    "        Segunda aproximación inicial para la raíz.\n",
    "    nmax : int\n",
    "        Número máximo de iteraciones.\n",
    "    prec : float\n",
    "        Criterio de precisión; se detiene si |f(xn)| < prec.\n",
    "    tol : float\n",
    "        Criterio de tolerancia; se detiene si |x1 - xn1| < tol.\n",
    "\n",
    "    \"\"\"\n",
    "    niter = 0\n",
    "    cont = True\n",
    "    exit = ''\n",
    "    x0 = todecimal(x0)\n",
    "    x1=todecimal(x1)\n",
    "    while niter < nmax and cont:\n",
    "        niter += 1\n",
    "        xn1 = x1 - (((x1 - x0) / (todecimal(f(x1)) - (todecimal(f(x0))))) * f(x1))\n",
    "        xn1 = todecimal(xn1)\n",
    "\n",
    "        if abs(f(xn1)) < prec:\n",
    "            exit = 'precision'\n",
    "            cont = False\n",
    "        \n",
    "        if abs(x1 - xn1) < tol:\n",
    "            exit = 'tolerancia'\n",
    "            cont = False\n",
    "        \n",
    "        x0 = todecimal(x1)\n",
    "        x1 = todecimal(xn1)\n",
    "\n",
    "    if exit == 'precision':\n",
    "        print(f'Posiblemente solución exacta: {xn1}')\n",
    "    elif exit == 'tolerancia':\n",
    "        print(f'Aproximación solicitada: {xn1}')\n",
    "    else:\n",
    "        print(f'Se llegó al número máximo de iteraciones ')\n",
    "    return xn1, niter, exit\n",
    "raiz ,iter ,salida =secante(f, x0=1.0, x1=2.0, nmax=1000, prec=1e-25, tol=1e-25)\n"
   ]
  },
  {
   "cell_type": "markdown",
   "id": "145d16cb",
   "metadata": {},
   "source": [
    "**Ejercicio 2.** Teniendo en cuenta estos primeros pasos, codifica una función para el método de Wittaker.\n",
    "\n",
    "Aproxima la raíz de la función $f(x)=e^x-3$:\n",
    "* Cambiando la precisión a 5 cifras significativas.\n",
    "* Con la precisión por defecto y aproximando la raíz con 28 cifras significativas.\n",
    "\n",
    "Comprueba que una mala elección de $m$ puede provocar que la sucesión no converja."
   ]
  },
  {
   "cell_type": "code",
   "execution_count": 26,
   "id": "840afe39",
   "metadata": {},
   "outputs": [
    {
     "name": "stdout",
     "output_type": "stream",
     "text": [
      "Posiblemente solución exacta: 1.0986\n"
     ]
    }
   ],
   "source": [
    "\n",
    "def wittaker(f, x0, m, nmax=nmax, prec=prec, tol=tol):\n",
    "    \"\"\"\n",
    "    Implementa el método de Whittaker para encontrar una raíz de la función f.\n",
    "\n",
    "    Parámetros:\n",
    "    -----------\n",
    "    f : función\n",
    "        La función cuya raíz se desea encontrar.\n",
    "    x0 : float\n",
    "        Aproximación inicial para la raíz.\n",
    "    m : float\n",
    "        Parámetro de pendiente usado en la iteración.\n",
    "    nmax : int\n",
    "        Número máximo de iteraciones.\n",
    "    prec : float\n",
    "        Criterio de precisión; se detiene si |f(xn)| < prec.\n",
    "    tol : float\n",
    "        Criterio de tolerancia; se detiene si |x0 - xn| < tol.\n",
    "    \"\"\"\n",
    "    x0 = todecimal(x0)\n",
    "    niter = 0\n",
    "    cont = True\n",
    "    exit = ''\n",
    "    while niter < nmax and cont:\n",
    "        niter += 1\n",
    "        xn = x0 - (todecimal(f(x0)) / m)\n",
    "        xn=todecimal(xn)\n",
    "        if abs(f(xn)) < prec:\n",
    "            exit = 'precision'\n",
    "            cont = False\n",
    "\n",
    "        if abs(x0 - xn) < tol:\n",
    "            exit = 'tolerancia'\n",
    "            cont = False\n",
    "        x0=xn\n",
    "    if exit == 'precision':\n",
    "        print(f'Posiblemente solución exacta: {xn}')\n",
    "    elif exit == 'tolerancia':\n",
    "        print(f'Aproximación solicitada: {xn}')\n",
    "    else:\n",
    "        print(f'Se llegó al número máximo de iteraciones ')\n",
    "    return xn, niter, exit\n",
    "\n",
    "\n",
    "\n",
    "raiz ,iter ,salida =wittaker(f,0.9,2,nmax=1000, prec=1e-25, tol=1e-25)\n"
   ]
  },
  {
   "cell_type": "markdown",
   "id": "8cc73326",
   "metadata": {},
   "source": [
    "**Ejercicio 3.** Modifique el método anterior para que, en lugar de fijar una pendiente $m$, calcule en cada iteración la derivada de la función en dicho punto, obteniendo el método de Newton-Raphson. Con este método:\n",
    "\n",
    "Aproxima la raíz de la función $f(x)=e^x-3$:\n",
    "* Cambiando la precisión a 5 cifras significativas.\n",
    "* Con la precisión por defecto y aproximando la raíz con 28 cifras significativas.\n",
    "\n",
    "Compare, en iguales condiciones, el rendimiento de Newton-Raphson con respecto al método de Wittaker."
   ]
  },
  {
   "cell_type": "code",
   "execution_count": null,
   "id": "ad7efe79",
   "metadata": {},
   "outputs": [
    {
     "name": "stdout",
     "output_type": "stream",
     "text": [
      "Se llegó al número máximo de iteraciones \n"
     ]
    }
   ],
   "source": [
    "def df(x):\n",
    "    return np.exp(x)\n",
    "\n",
    "\n",
    "def NewtonRaphson(f, df, x0, nmax=nmax, prec=prec, tol=tol):\n",
    "    \"\"\"\n",
    "    Implementa el método de Newton-Raphson para encontrar una raíz de la función f.\n",
    "\n",
    "    Parámetros:\n",
    "    -----------\n",
    "    f : función\n",
    "        La función cuya raíz se desea encontrar.\n",
    "    df : función\n",
    "        La derivada de la función f.\n",
    "    x0 : float\n",
    "        Aproximación inicial para la raíz.\n",
    "    nmax : int\n",
    "        Número máximo de iteraciones.\n",
    "    prec : float\n",
    "        Criterio de precisión; se detiene si |f(xn)| < prec.\n",
    "    tol : float\n",
    "        Criterio de tolerancia; se detiene si |x0 - xn| < tol.\n",
    "\n",
    "    Retorna:\n",
    "    --------\n",
    "    xn : float\n",
    "        Raíz aproximada.\n",
    "    niter : int\n",
    "        Número de iteraciones realizadas.\n",
    "    exit : str\n",
    "        Condición de salida ('precision', 'tolerancia' o máximo de iteraciones alcanzado).\n",
    "    \"\"\"\n",
    "    niter = 0\n",
    "    cont = True\n",
    "    exit = ''\n",
    "    x0 = todecimal(x0)\n",
    "    while niter < nmax and cont:\n",
    "        niter += 1\n",
    "        xn = x0 - (todecimal(f(x0)) / todecimal(df(x0)))\n",
    "        xn = todecimal(xn)\n",
    "        if abs(x0 - xn) < tol:\n",
    "            exit = 'tolerancia'\n",
    "            cont = False\n",
    "        if abs(f(xn)) < prec:\n",
    "            exit = 'precision'\n",
    "            cont = False\n",
    "\n",
    "        x0 = xn\n",
    "\n",
    "    if exit == 'precision':\n",
    "        print(f'Posiblemente solución exacta: {xn}')\n",
    "    elif exit == 'tolerancia':\n",
    "        print(f'Aproximación solicitada: {xn}')\n",
    "    else:\n",
    "        print(f'Se llegó al número máximo de iteraciones ')\n",
    "    return xn, niter, exit\n",
    "\n",
    "raiz ,iter ,salida =NewtonRaphson(f,df,1,nmax=1000, prec=1e-25, tol=1e-25)\n",
    "   "
   ]
  },
  {
   "cell_type": "markdown",
   "id": "ecb33424",
   "metadata": {},
   "source": [
    "**Ejercicio 4.** Demuestre que la ecuación  $x^3+4 x^2=10  $  tiene una única raíz en el intervalo $[1,2]$.  Aproxime dicha raíz con el método de bisección con al menos 3 cifras decimales exactas. ¿Cuántas iteraciones serán necesarias para conseguir 5 cifras decimales exactas (tol =$10^{-5}$)?  Aproxime también la raíz con el método de Newton-Raphson partiendo del extremo adecuado hasta que la diferencia en valor absoluto, entre dos aproximaciones consecutivas sea  inferior a  $10^{-3}$."
   ]
  },
  {
   "cell_type": "code",
   "execution_count": 22,
   "id": "24466cb4",
   "metadata": {},
   "outputs": [
    {
     "data": {
      "text/plain": [
       "[<matplotlib.lines.Line2D at 0x7a9460b794c0>]"
      ]
     },
     "execution_count": 22,
     "metadata": {},
     "output_type": "execute_result"
    },
    {
     "data": {
      "image/png": "[encoded data removed]",
      "text/plain": [
       "<Figure size 640x480 with 1 Axes>"
      ]
     },
     "metadata": {},
     "output_type": "display_data"
    }
   ],
   "source": [
    "def f(x):\n",
    "    return x**3 +4*x**2 -10\n",
    "\n",
    "\n",
    "x=np.linspace(1,2,100)\n",
    "y=f(x)\n",
    "fig=plt.figure()\n",
    "ax=fig.add_axes([0.1,0.1,0.8,0.8])\n",
    "ax.spines['bottom'].set_position('zero')\n",
    "ax.plot(x,y,'b')"
   ]
  },
  {
   "cell_type": "markdown",
   "id": "4d08a8df",
   "metadata": {},
   "source": [
    "\n",
    "**Ejercicio 5.** Use el método de Newton-Raphson para aproximar las soluciones de las siguientes ecuaciones con tolerancia $10^{-5}$ , partiendo de un valor adecuado, próximo a cada una de ellas en cada caso.\n",
    "\n",
    "1. $3x=2+x^2-e^x$.\n",
    "\n",
    "2. $x^2+10 \\cos x+x=0$."
   ]
  },
  {
   "cell_type": "code",
   "execution_count": 23,
   "id": "17c05bfd",
   "metadata": {},
   "outputs": [
    {
     "ename": "TypeError",
     "evalue": "'int' object is not callable",
     "output_type": "error",
     "traceback": [
      "\u001b[31m---------------------------------------------------------------------------\u001b[39m",
      "\u001b[31mTypeError\u001b[39m                                 Traceback (most recent call last)",
      "\u001b[36mCell\u001b[39m\u001b[36m \u001b[39m\u001b[32mIn[23]\u001b[39m\u001b[32m, line 6\u001b[39m\n\u001b[32m      3\u001b[39m \u001b[38;5;28;01mdef\u001b[39;00m\u001b[38;5;250m \u001b[39m\u001b[34mf2\u001b[39m(x):\n\u001b[32m      4\u001b[39m    \u001b[38;5;28;01mreturn\u001b[39;00m x**\u001b[32m2\u001b[39m + \u001b[32m10\u001b[39m*np.cos(x) +x\n\u001b[32m----> \u001b[39m\u001b[32m6\u001b[39m \u001b[43mNewtonRaphson\u001b[49m\u001b[43m(\u001b[49m\u001b[43mf1\u001b[49m\u001b[43m,\u001b[49m\u001b[32;43m1\u001b[39;49m\u001b[43m,\u001b[49m\u001b[32;43m100\u001b[39;49m\u001b[43m,\u001b[49m\u001b[32;43m1e-25\u001b[39;49m\u001b[43m,\u001b[49m\u001b[32;43m1e-25\u001b[39;49m\u001b[43m)\u001b[49m \n\u001b[32m      7\u001b[39m NewtonRaphson(f2,\u001b[32m1\u001b[39m,\u001b[32m100\u001b[39m,\u001b[32m1e-25\u001b[39m,\u001b[32m1e-25\u001b[39m) \n",
      "\u001b[36mFile \u001b[39m\u001b[32m~/ugr/2/MN/resolucionecuaciones.py:143\u001b[39m, in \u001b[36mNewtonRaphson\u001b[39m\u001b[34m(f, df, x0, nmax, prec, tol)\u001b[39m\n\u001b[32m    121\u001b[39m \u001b[38;5;28;01mdef\u001b[39;00m\u001b[38;5;250m \u001b[39m\u001b[34mNewtonRaphson\u001b[39m(f, df, x0, nmax=nmax, prec=prec, tol=tol):\n\u001b[32m    122\u001b[39m \u001b[38;5;250m    \u001b[39m\u001b[33;03m\"\"\"\u001b[39;00m\n\u001b[32m    123\u001b[39m \u001b[33;03m    Implementa el método de Newton-Raphson para encontrar una raíz de la función f.\u001b[39;00m\n\u001b[32m    124\u001b[39m \n\u001b[32m    125\u001b[39m \u001b[33;03m    Parámetros:\u001b[39;00m\n\u001b[32m    126\u001b[39m \u001b[33;03m    -----------\u001b[39;00m\n\u001b[32m    127\u001b[39m \u001b[33;03m    f : función\u001b[39;00m\n\u001b[32m    128\u001b[39m \u001b[33;03m        La función cuya raíz se desea encontrar.\u001b[39;00m\n\u001b[32m    129\u001b[39m \u001b[33;03m    df : función\u001b[39;00m\n\u001b[32m    130\u001b[39m \u001b[33;03m        La derivada de la función f.\u001b[39;00m\n\u001b[32m    131\u001b[39m \u001b[33;03m    x0 : float\u001b[39;00m\n\u001b[32m    132\u001b[39m \u001b[33;03m        Aproximación inicial para la raíz.\u001b[39;00m\n\u001b[32m    133\u001b[39m \u001b[33;03m    nmax : int\u001b[39;00m\n\u001b[32m    134\u001b[39m \u001b[33;03m        Número máximo de iteraciones.\u001b[39;00m\n\u001b[32m    135\u001b[39m \u001b[33;03m    prec : float\u001b[39;00m\n\u001b[32m    136\u001b[39m \u001b[33;03m        Criterio de precisión; se detiene si |f(xn)| < prec.\u001b[39;00m\n\u001b[32m    137\u001b[39m \u001b[33;03m    tol : float\u001b[39;00m\n\u001b[32m    138\u001b[39m \u001b[33;03m        Criterio de tolerancia; se detiene si |x0 - xn| < tol.\u001b[39;00m\n\u001b[32m    139\u001b[39m \n\u001b[32m    140\u001b[39m \u001b[33;03m    Retorna:\u001b[39;00m\n\u001b[32m    141\u001b[39m \u001b[33;03m    --------\u001b[39;00m\n\u001b[32m    142\u001b[39m \u001b[33;03m    xn : float\u001b[39;00m\n\u001b[32m--> \u001b[39m\u001b[32m143\u001b[39m \u001b[33;03m        Raíz aproximada.\u001b[39;00m\n\u001b[32m    144\u001b[39m \u001b[33;03m    niter : int\u001b[39;00m\n\u001b[32m    145\u001b[39m \u001b[33;03m        Número de iteraciones realizadas.\u001b[39;00m\n\u001b[32m    146\u001b[39m \u001b[33;03m    exit : str\u001b[39;00m\n\u001b[32m    147\u001b[39m \u001b[33;03m        Condición de salida ('precision', 'tolerancia' o máximo de iteraciones alcanzado).\u001b[39;00m\n\u001b[32m    148\u001b[39m \u001b[33;03m    \"\"\"\u001b[39;00m\n\u001b[32m    149\u001b[39m     niter = \u001b[32m0\u001b[39m\n\u001b[32m    150\u001b[39m     cont = \u001b[38;5;28;01mTrue\u001b[39;00m\n",
      "\u001b[31mTypeError\u001b[39m: 'int' object is not callable"
     ]
    }
   ],
   "source": [
    "def f1(x):\n",
    "   return 3*x -2 -x**2 -np.exp(x)\n",
    "def f2(x):\n",
    "   return x**2 + 10*np.cos(x) +x\n",
    "\n",
    "NewtonRaphson(f1,1,100,1e-25,1e-25) \n",
    "NewtonRaphson(f2,1,100,1e-25,1e-25) "
   ]
  },
  {
   "cell_type": "markdown",
   "id": "1dcc23fd",
   "metadata": {},
   "source": [
    "**Ejercicio 6.** Para la función  $ f(x)= 3 x^2+e^x-1$,\n",
    "\n",
    "i) encuentre, mediante el método de bisección una aproximación de la raíz en $[0,1]$ con, al menos, cuatro decimales exactos (tol =$10^{-4}$), y determine el número de iteraciones realizadas;\n",
    "\n",
    "ii) encuentre, mediante el método de Newton-Raphson, una aproximación de la raíz en $[0,1]$ con una tolerancia de $10^{-4}$, partiendo de $x_0=0$, y determine el número de iteraciones realizadas.  "
   ]
  },
  {
   "cell_type": "code",
   "execution_count": null,
   "id": "caf3f1a9",
   "metadata": {},
   "outputs": [],
   "source": [
    "def f3(x):\n",
    "    return x**2 + np.exp(x)-1\n",
    "\n",
    "biseccion(f,0,1,1000,1e-4,1e-4)\n",
    "NewtonRaphson(f2,0,100,1e-25,1e-25) "
   ]
  },
  {
   "cell_type": "markdown",
   "id": "621f8030",
   "metadata": {},
   "source": [
    "> **Ejercicio 7.** Implemente el método de iteración funcional de Steffensen para una función $f$. En particular, para la función $f(x)=e^x-3$:\n",
    "> * Represente gráficamente las funciones $g$ definidas tanto para el método de Newton-Raphson como para el método de Steffensen, comprobando que ambas poseen un punto fijo en la raíz de $f$.\n",
    "> * Aproxima su única raíz utilizando el método de Steffensen:\n",
    ">     * Cambiando la precisión a 5 cifras significativas.\n",
    ">     * Con la precisión por defecto y aproximando la raíz con 28 cifras significativas."
   ]
  },
  {
   "cell_type": "code",
   "execution_count": null,
   "id": "e4e24349",
   "metadata": {},
   "outputs": [],
   "source": [
    "\n",
    "def Steffensen(f,x0, nmax=nmax, prec=prec, tol=tol):\n",
    "    \"\"\"\n",
    "    Implementa el método de Steffensen para encontrar una raíz de la función f.\n",
    "\n",
    "    Parámetros:\n",
    "    -----------\n",
    "    f : función\n",
    "        La función cuya raíz se desea encontrar.\n",
    "    x0 : float\n",
    "        Aproximación inicial para la raíz.\n",
    "    nmax : int\n",
    "        Número máximo de iteraciones.\n",
    "    prec : float   \n",
    "        Criterio de precisión; se detiene si |f(xn)| < prec.\n",
    "    tol : float\n",
    "        Criterio de tolerancia; se detiene si |x0 - xn| < tol. \n",
    "\n",
    "    \"\"\"\n",
    "    niter = 0\n",
    "    cont = True\n",
    "    exit = ''\n",
    "    x0 = todecimal(xo)\n",
    "    while niter < nmax and cont:\n",
    "        niter += 1\n",
    "        xn = todecimal(x0 - ((todecimal(f(x0))**2) / (todecimal(f(x0+todecimal(f(x0))))-todecimal(f(x0)))))\n",
    "\n",
    "        if abs(f(xn)) < prec:\n",
    "            exit = 'precision'\n",
    "            cont = False\n",
    "\n",
    "        if abs(x0 - xn) < tol:\n",
    "            exit = 'tolerancia'\n",
    "            cont = False\n",
    "        x0=xn\n",
    "    if exit == 'precision':\n",
    "        print(f'Posiblemente solución exacta: {xn}')\n",
    "    elif exit == 'tolerancia':\n",
    "        print(f'Aproximación solicitada: {xn}')\n",
    "    else:\n",
    "        print(f'Se llegó al número máximo de iteraciones ')\n",
    "    return xn, niter, exit\n"
   ]
  },
  {
   "cell_type": "markdown",
   "id": "3fd039f4",
   "metadata": {},
   "source": [
    "> **Ejercicio 8.** Implemente el método de aceleración de la convergencia de Steffensen y aplíquelo a una sucesión de valores obtenidos mediante iteración funcional de Newton-Raphson a la función $f(x) = e^x -3$. Compare las aproximaciones tras 4 iteraciones del método de Newton-Raphson, aceleración de la convergencia de Aitken y aceleración de la convergencia de Steffensen."
   ]
  },
  {
   "cell_type": "code",
   "execution_count": null,
   "id": "a0f9d5af",
   "metadata": {},
   "outputs": [],
   "source": []
  },
  {
   "cell_type": "markdown",
   "id": "0dbe510a",
   "metadata": {},
   "source": [
    "\n",
    "> **Ejercicio 9** Utilice las órdenes apropiadas de Python para aproximar todos los puntos donde se anulan las funciones siguientes (si es necesario, represéntelas gráficamente):\n",
    "> \n",
    "> i) $f(x)=x^7-x^4+2$ ,\n",
    "> \n",
    "> ii) $f(x)=x^7+\\cos  x-3$."
   ]
  },
  {
   "cell_type": "code",
   "execution_count": null,
   "id": "f4b05f8e",
   "metadata": {},
   "outputs": [],
   "source": []
  },
  {
   "cell_type": "markdown",
   "id": "4371b9a1",
   "metadata": {},
   "source": [
    "\n",
    "> **Ejercicio 10:** De los métodos implementados en los anteriores ejercicios, utiliza el método o métodos numéricos que desees para aproximar la primera raíz de la función\n",
    "> $$\n",
    "> f:[0,1]\\longrightarrow\\mathbb R \\\\\n",
    "> f(x) = x(1-x)\\sin\\left(\\dfrac{2\\pi}{x+1/10}\\right)\n",
    "> $$\n",
    "> que sea mayor que una milésima con una precisión de 28 cifras significativas y utilizando el menor número de iteraciones posible. Imprime por pantalla tu aproximación y el número de iteraciones utilizado."
   ]
  },
  {
   "cell_type": "code",
   "execution_count": null,
   "id": "050d306e",
   "metadata": {},
   "outputs": [],
   "source": []
  }
 ],
 "metadata": {
  "kernelspec": {
   "display_name": "venv",
   "language": "python",
   "name": "python3"
  },
  "language_info": {
   "codemirror_mode": {
    "name": "ipython",
    "version": 3
   },
   "file_extension": ".py",
   "mimetype": "text/x-python",
   "name": "python",
   "nbconvert_exporter": "python",
   "pygments_lexer": "ipython3",
   "version": "3.12.3"
  }
 },
 "nbformat": 4,
 "nbformat_minor": 5
}
