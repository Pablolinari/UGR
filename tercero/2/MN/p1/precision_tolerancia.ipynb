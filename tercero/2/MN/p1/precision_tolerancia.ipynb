{
 "cells": [
  {
   "cell_type": "markdown",
   "id": "8f4177df",
   "metadata": {},
   "source": [
    "# Sobre precisión y tolerancia"
   ]
  },
  {
   "cell_type": "code",
   "execution_count": 1,
   "id": "a5282061",
   "metadata": {},
   "outputs": [
    {
     "data": {
      "text/plain": [
       "Context(prec=28, rounding=ROUND_HALF_EVEN, Emin=-999999, Emax=999999, capitals=1, clamp=0, flags=[], traps=[InvalidOperation, DivisionByZero, Overflow])"
      ]
     },
     "execution_count": 1,
     "metadata": {},
     "output_type": "execute_result"
    }
   ],
   "source": [
    "import numpy as np\n",
    "import sympy as sp\n",
    "from numpy import sign\n",
    "\n",
    "from decimal import * # Este módulo nos permitirá trabajar con una precisión determinada\n",
    "getcontext()"
   ]
  },
  {
   "cell_type": "markdown",
   "id": "382dd05d",
   "metadata": {},
   "source": [
    "La precisión por defecto del módulo `Decimal`, como se vio en el notebook de la P1, es 28, nos la guardamos en una variable para poder restaurar la precisión por defecto."
   ]
  },
  {
   "cell_type": "code",
   "execution_count": 2,
   "id": "9fbd8a45",
   "metadata": {},
   "outputs": [
    {
     "data": {
      "text/plain": [
       "28"
      ]
     },
     "execution_count": 2,
     "metadata": {},
     "output_type": "execute_result"
    }
   ],
   "source": [
    "prec_default = getcontext().prec\n",
    "prec_default"
   ]
  },
  {
   "cell_type": "markdown",
   "id": "a80b8a73",
   "metadata": {},
   "source": [
    "A continuación, utilizando la función de bisección del notebook de la P1 (es exactamente la misma pero en este caso especificando valores por defecto de `nmax`, `tol` y `prec`), mostraré el hecho que quiero poner de manifiesto con los ejercicios de la P1."
   ]
  },
  {
   "cell_type": "code",
   "execution_count": 3,
   "id": "775cdae5",
   "metadata": {},
   "outputs": [],
   "source": [
    "def biseccion(f, a, b, nmax=100, tol=1e-16, prec=1e-16):\n",
    "    niter = 0\n",
    "    cont = True\n",
    "    exit = ''\n",
    "    while niter < nmax and cont:\n",
    "        niter += 1\n",
    "        c = (a+b)/2\n",
    "        if abs(f(c)) < prec:    # Si |f(c)|< prec\n",
    "            exit = 'precision'\n",
    "            cont = False\n",
    "        elif sign(f(a)) != sign(f(c)):\n",
    "            b = c\n",
    "        else:\n",
    "            a = c\n",
    "\n",
    "        if b-a < tol:\n",
    "            exit = 'tolerancia'\n",
    "            cont = False\n",
    "\n",
    "    if exit == 'precision':\n",
    "        print(f'Posiblemente solución exacta: {c}')\n",
    "    elif exit == 'tolerancia':\n",
    "        print(f'Aproximación solicitada: {c}')\n",
    "    else:\n",
    "        print('Se llegó al número máximo de iteraciones')\n",
    "    return c, niter, exit"
   ]
  },
  {
   "cell_type": "markdown",
   "id": "a3f75063",
   "metadata": {},
   "source": [
    "Definimos la función y los extremos `a` y `b`."
   ]
  },
  {
   "cell_type": "code",
   "execution_count": 4,
   "id": "3449c574",
   "metadata": {},
   "outputs": [],
   "source": [
    "f = lambda x : np.exp(x) - 3\n",
    "a = Decimal(0)\n",
    "b = Decimal(2)"
   ]
  },
  {
   "cell_type": "markdown",
   "id": "693d7a4b",
   "metadata": {},
   "source": [
    "Para comparar con la solución exacta, que sabemos que es $\\log(3)$, expresamos ese valor con 28 cifras significativas."
   ]
  },
  {
   "cell_type": "code",
   "execution_count": 5,
   "id": "487b142c",
   "metadata": {},
   "outputs": [
    {
     "name": "stdout",
     "output_type": "stream",
     "text": [
      "Solución exacta: 1.098612288668109691395245237\n"
     ]
    }
   ],
   "source": [
    "sol_exact = sp.log(3)\n",
    "sol_exact_28 = sp.N(sol_exact, 28) # Solución exacta con 28 cifras significativas\n",
    "print(f'Solución exacta: {sol_exact_28}')"
   ]
  },
  {
   "cell_type": "markdown",
   "id": "48606109",
   "metadata": {},
   "source": [
    "Para que tengáis claro a lo que me refiero con cifras significativas, son básicamente los primeros dígitos no nulos. Para verlo algo mejor, mirad el valor de $\\log(3)$ con diferentes números de cifras significativas: "
   ]
  },
  {
   "cell_type": "code",
   "execution_count": 6,
   "id": "bdff7bd4",
   "metadata": {},
   "outputs": [
    {
     "name": "stdout",
     "output_type": "stream",
     "text": [
      "1.\n",
      "1.1\n",
      "1.0986\n",
      "1.098612289\n",
      "1.09861228866811\n",
      "1.0986122886681096914\n",
      "1.098612288668109691395245\n",
      "1.098612288668109691395245237\n"
     ]
    }
   ],
   "source": [
    "print(sp.N(sp.log(3), 1) )# 1 cifra significativa\n",
    "print(sp.N(sp.log(3), 2) )# 2 cifras significativas\n",
    "print(sp.N(sp.log(3), 5) )# 5 cifras significativas\n",
    "print(sp.N(sp.log(3), 10)) # 10 cifras significativas\n",
    "print(sp.N(sp.log(3), 15)) # 15 cifras significativas\n",
    "print(sp.N(sp.log(3), 20)) # 20 cifras significativas\n",
    "print(sp.N(sp.log(3), 25)) # 25 cifras significativas\n",
    "print(sp.N(sp.log(3), 28)) # 28 cifras significativas"
   ]
  },
  {
   "cell_type": "markdown",
   "id": "68948bce",
   "metadata": {},
   "source": [
    "Sin embargo, mirad qué ocurre si le pido cifras significativas a $10^{-5}=0.00001$:"
   ]
  },
  {
   "cell_type": "code",
   "execution_count": 17,
   "id": "b3612507",
   "metadata": {},
   "outputs": [
    {
     "name": "stdout",
     "output_type": "stream",
     "text": [
      "1.e-5\n"
     ]
    }
   ],
   "source": [
    "print(sp.N(0.00001, 1) )# 1 cifra significativa"
   ]
  },
  {
   "cell_type": "markdown",
   "id": "06784ea9",
   "metadata": {},
   "source": [
    "La primera cifra significativa (el primér dígito no nulo), es 1."
   ]
  },
  {
   "cell_type": "markdown",
   "id": "a1d93789",
   "metadata": {},
   "source": [
    "Si ahora, como pido en los ejercicios cambio la precisión del módulo `Decimal` a 5"
   ]
  },
  {
   "cell_type": "code",
   "execution_count": 7,
   "id": "ca530519",
   "metadata": {},
   "outputs": [],
   "source": [
    "getcontext().prec = 5 # Establecemos la precisión a 5 decimales"
   ]
  },
  {
   "cell_type": "markdown",
   "id": "025e2cb7",
   "metadata": {},
   "source": [
    "Observad lo que pasa cuando ejecuto bisección con valores de tolerancia y precisión pequeños"
   ]
  },
  {
   "cell_type": "code",
   "execution_count": 8,
   "id": "087014f9",
   "metadata": {},
   "outputs": [
    {
     "name": "stdout",
     "output_type": "stream",
     "text": [
      "Posiblemente solución exacta: 1.0986\n",
      "Número de iteraciones: 11\n"
     ]
    }
   ],
   "source": [
    "aprox, niter , _ = biseccion(f, a, b, nmax=1e3, tol=1e-16, prec=1e-28)\n",
    "print(f'Número de iteraciones: {niter}')"
   ]
  },
  {
   "cell_type": "markdown",
   "id": "a044f5d2",
   "metadata": {},
   "source": [
    "El programa en cierto momento ha encontrado un valor de $f(c)$ más pequeño que $10^{-5}$ y lo ha redondeado a $0$, por lo que considera que esa es la solución exacta. Pero es que independientemente de los valores de tolerancia y precisión que le indiques a la función va a pasar lo mismo."
   ]
  },
  {
   "cell_type": "code",
   "execution_count": 9,
   "id": "bf04f6f2",
   "metadata": {},
   "outputs": [
    {
     "name": "stdout",
     "output_type": "stream",
     "text": [
      "Posiblemente solución exacta: 1.0986\n",
      "Número de iteraciones: 11\n"
     ]
    }
   ],
   "source": [
    "aprox, niter , _ = biseccion(f, a, b, nmax=1e3, tol=1e-16, prec=1e-16)\n",
    "print(f'Número de iteraciones: {niter}')"
   ]
  },
  {
   "cell_type": "code",
   "execution_count": 10,
   "id": "b261c7c5",
   "metadata": {},
   "outputs": [
    {
     "name": "stdout",
     "output_type": "stream",
     "text": [
      "Posiblemente solución exacta: 1.0986\n",
      "Número de iteraciones: 11\n"
     ]
    }
   ],
   "source": [
    "aprox, niter , _ = biseccion(f, a, b, nmax=1e3, tol=1e-6, prec=1e-10)\n",
    "print(f'Número de iteraciones: {niter}')"
   ]
  },
  {
   "cell_type": "markdown",
   "id": "e9b1278c",
   "metadata": {},
   "source": [
    "Salvo que indiques una tolerancia mayor que la propia precisión del sistema, por ejemplo, $10^{-2}$"
   ]
  },
  {
   "cell_type": "code",
   "execution_count": 11,
   "id": "f3943445",
   "metadata": {},
   "outputs": [
    {
     "name": "stdout",
     "output_type": "stream",
     "text": [
      "Aproximación solicitada: 1.1016\n",
      "Número de iteraciones: 8\n"
     ]
    }
   ],
   "source": [
    "aprox, niter , _ = biseccion(f, a, b, nmax=1e3, tol=1e-2, prec=1e-10)\n",
    "print(f'Número de iteraciones: {niter}')"
   ]
  },
  {
   "cell_type": "markdown",
   "id": "b2570774",
   "metadata": {},
   "source": [
    "En este caso sale antes por tolerancia que por precisión, pero evidentemente esta aproximación es muy mala. \n",
    "\n",
    "La gracia de este primer apartado es que, haciendo esto, los algoritmos en general deberían ser muy insensibles a los argumentos que se le den en tolerancia y precisión y en general encontrar esa \"solución exacta\".\n",
    "\n",
    "Retomemos ahora la precisión por defecto."
   ]
  },
  {
   "cell_type": "code",
   "execution_count": 12,
   "id": "7baddac2",
   "metadata": {},
   "outputs": [],
   "source": [
    "getcontext().prec = prec_default # Regresamos a la precisión por defecto (28)"
   ]
  },
  {
   "cell_type": "markdown",
   "id": "0fed254f",
   "metadata": {},
   "source": [
    "En este caso, el módulo `Decimal` difícilmente va a redondear por sí mismo nada a $0$ porque ahora la precisión es muy pequeña. Por tanto, ahora el programa es muy sensible a los argumentos.\n",
    "\n",
    "En este primer ejemplo, la precisión que le indico es muy pequeña (de hecho la misma que por defecto), con lo cual difícilmente encontrará una raíz exacta."
   ]
  },
  {
   "cell_type": "code",
   "execution_count": 13,
   "id": "943ca8d1",
   "metadata": {},
   "outputs": [
    {
     "name": "stdout",
     "output_type": "stream",
     "text": [
      "Aproximación solicitada: 1.098612288653384894132614136\n",
      "Valor exacto:\t\t 1.098612288668109691395245237\n",
      "Número de iteraciones: 35\n"
     ]
    }
   ],
   "source": [
    "aprox, niter , _ = biseccion(f, a, b, nmax=1e3, tol=1e-10, prec=1e-28)\n",
    "print(f'Valor exacto:\\t\\t {sol_exact_28}')\n",
    "print(f'Número de iteraciones: {niter}')\n"
   ]
  },
  {
   "cell_type": "markdown",
   "id": "158623f1",
   "metadata": {},
   "source": [
    "Sin embargo comprobad que calcula correctamente las primeras 10 cifras significativas (11 de hecho)."
   ]
  },
  {
   "cell_type": "code",
   "execution_count": 14,
   "id": "29b6955f",
   "metadata": {},
   "outputs": [
    {
     "name": "stdout",
     "output_type": "stream",
     "text": [
      "Aproximación solicitada: 1.098612288668109726597066356\n",
      "Valor exacto:\t\t 1.098612288668109691395245237\n",
      "Número de iteraciones: 55\n"
     ]
    }
   ],
   "source": [
    "aprox, niter , _ = biseccion(f, a, b, nmax=1e3, tol=1e-16, prec=1e-28)\n",
    "print(f'Valor exacto:\\t\\t {sol_exact_28}')\n",
    "print(f'Número de iteraciones: {niter}')"
   ]
  },
  {
   "cell_type": "markdown",
   "id": "99d20fe5",
   "metadata": {},
   "source": [
    "Y en este caso las 16 primeras cifras significativas.\n",
    "\n",
    "Ahora voy a probar a bajar la precisión."
   ]
  },
  {
   "cell_type": "code",
   "execution_count": 15,
   "id": "ae891d4c",
   "metadata": {},
   "outputs": [
    {
     "name": "stdout",
     "output_type": "stream",
     "text": [
      "Posiblemente solución exacta: 1.098612288653384894132614136\n",
      "Valor exacto:\t\t 1.098612288668109691395245237\n",
      "Número de iteraciones: 35\n"
     ]
    }
   ],
   "source": [
    "aprox, niter , _ = biseccion(f, a, b, nmax=1e3, tol=1e-16, prec=1e-10)\n",
    "print(f'Valor exacto:\\t\\t {sol_exact_28}')\n",
    "print(f'Número de iteraciones: {niter}')"
   ]
  },
  {
   "cell_type": "markdown",
   "id": "29b526bf",
   "metadata": {},
   "source": [
    "En este caso también calcula la solución con al menos 10 cifras significativas, pero determina que esa solución es exacta porque ha salido por precisión, no por tolerancia.\n",
    "\n",
    "Otra forma de comprobar el número de cifras significativas que coinciden es calcular la diferencia entre el valor exacto y la aproximación. En este último caso:"
   ]
  },
  {
   "cell_type": "code",
   "execution_count": 16,
   "id": "dfa8b3ff",
   "metadata": {},
   "outputs": [
    {
     "data": {
      "text/latex": [
       "$\\displaystyle 1.472479726263110116745845432 \\cdot 10^{-11}$"
      ],
      "text/plain": [
       "1.472479726263110116745845432e-11"
      ]
     },
     "execution_count": 16,
     "metadata": {},
     "output_type": "execute_result"
    }
   ],
   "source": [
    "abs(aprox- sol_exact_28)"
   ]
  },
  {
   "cell_type": "markdown",
   "id": "d6623b93",
   "metadata": {},
   "source": [
    "Como podéis comprobar, por una vía o por otra se puede obtener una aproximación tan buena como queramos. El número de iteraciones va a depender mucho del algoritmo, ya que los hay más rápidos y más lentos, pero precisamente es eso lo que quiero que comprobéis. \n",
    "\n",
    "Cualquier otra duda que tengáis no dudéis en preguntar. ¡Ánimo!"
   ]
  }
 ],
 "metadata": {
  "kernelspec": {
   "display_name": "Python 3",
   "language": "python",
   "name": "python3"
  },
  "language_info": {
   "codemirror_mode": {
    "name": "ipython",
    "version": 3
   },
   "file_extension": ".py",
   "mimetype": "text/x-python",
   "name": "python",
   "nbconvert_exporter": "python",
   "pygments_lexer": "ipython3",
   "version": "3.12.10"
  }
 },
 "nbformat": 4,
 "nbformat_minor": 5
}
